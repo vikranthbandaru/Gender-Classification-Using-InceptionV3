{
 "cells": [
  {
   "cell_type": "markdown",
   "metadata": {
    "id": "RPNi43BEjhrq"
   },
   "source": [
    "#Importing the libraries"
   ]
  },
  {
   "cell_type": "code",
   "execution_count": null,
   "metadata": {
    "id": "jO8W6iHLjhUH"
   },
   "outputs": [],
   "source": [
    "import matplotlib.pyplot as plt\n",
    "import numpy as np\n",
    "import pandas as pd\n",
    "import random\n",
    "import os\n",
    "%matplotlib inline"
   ]
  },
  {
   "cell_type": "code",
   "execution_count": null,
   "metadata": {
    "id": "hzENKxndmGYb"
   },
   "outputs": [],
   "source": [
    "import tensorflow as tf\n",
    "from tensorflow.keras.applications import InceptionV3\n",
    "from tensorflow.keras.models import Sequential\n",
    "from tensorflow.keras.layers import Dense, Flatten, BatchNormalization, Dropout\n",
    "from tensorflow.keras.preprocessing.image import ImageDataGenerator\n",
    "from tensorflow.keras.preprocessing.image import load_img, img_to_array"
   ]
  },
  {
   "cell_type": "code",
   "execution_count": null,
   "metadata": {
    "colab": {
     "base_uri": "https://localhost:8080/"
    },
    "id": "DK2P_kzZobRx",
    "outputId": "d422e272-dd86-4145-e2ef-c93834c6abb1"
   },
   "outputs": [],
   "source": [
    "!git clone https://github.com/laxmimerit/male-female-face-dataset.git"
   ]
  },
  {
   "cell_type": "code",
   "execution_count": null,
   "metadata": {
    "id": "Wig2YG79pShn"
   },
   "outputs": [],
   "source": [
    "epochs = 50\n",
    "lr = 1e-3\n",
    "batch_size = 128\n",
    "data =[]\n",
    "labels = []\n",
    "\n"
   ]
  },
  {
   "cell_type": "code",
   "execution_count": null,
   "metadata": {
    "id": "xSKm5J3opSkC"
   },
   "outputs": [],
   "source": [
    "size = 224"
   ]
  },
  {
   "cell_type": "code",
   "execution_count": null,
   "metadata": {
    "id": "-YA7ISmTpSo3"
   },
   "outputs": [],
   "source": [
    "train_datagen = ImageDataGenerator(horizontal_flip=True,width_shift_range=0.4,height_shift_range=0.4,\n",
    "                                   zoom_range=0.3,\n",
    "                                   rotation_range = 20,\n",
    "                                   rescale = 1/255,\n",
    "                                   )"
   ]
  },
  {
   "cell_type": "code",
   "execution_count": null,
   "metadata": {
    "id": "qWzNyAFlpSrg"
   },
   "outputs": [],
   "source": [
    "test_datagen = ImageDataGenerator(rescale = 1/255)"
   ]
  },
  {
   "cell_type": "code",
   "execution_count": null,
   "metadata": {
    "id": "w0M2SbZ1pStw"
   },
   "outputs": [],
   "source": [
    "target_size = (size,size)"
   ]
  },
  {
   "cell_type": "code",
   "execution_count": null,
   "metadata": {
    "colab": {
     "base_uri": "https://localhost:8080/"
    },
    "id": "zbFiECnWpSwD",
    "outputId": "f6b1d974-ada2-4c1e-e977-455fbb1d1039"
   },
   "outputs": [],
   "source": [
    "train_generator = train_datagen.flow_from_directory(\n",
    "    directory='/content/male-female-face-dataset/Training',\n",
    "    target_size=target_size,\n",
    "    batch_size=batch_size,\n",
    "    class_mode='binary'\n",
    ")"
   ]
  },
  {
   "cell_type": "code",
   "execution_count": null,
   "metadata": {
    "colab": {
     "base_uri": "https://localhost:8080/"
    },
    "id": "jHh2mcgnpSyd",
    "outputId": "880a33dc-26fa-4edb-9316-8c151c8a5668"
   },
   "outputs": [],
   "source": [
    "validation_generator = test_gen.flow_from_directory(\n",
    "    directory='/content/male-female-face-dataset/Validation',\n",
    "    target_size=target_size,\n",
    "    batch_size=batch_size,\n",
    "    class_mode='binary'\n",
    ")"
   ]
  },
  {
   "cell_type": "code",
   "execution_count": null,
   "metadata": {
    "colab": {
     "base_uri": "https://localhost:8080/"
    },
    "id": "nWQ8LOJYvZ-E",
    "outputId": "33725966-7086-4767-e3d0-7daebae45e5b"
   },
   "outputs": [],
   "source": [
    "x,y = train_generator.next()\n",
    "x.shape"
   ]
  },
  {
   "cell_type": "markdown",
   "metadata": {
    "id": "81d41bS1wOJ6"
   },
   "source": [
    "## Build ML model"
   ]
  },
  {
   "cell_type": "code",
   "execution_count": null,
   "metadata": {
    "id": "GbRZyomnvdti"
   },
   "outputs": [],
   "source": [
    "model = Sequential()\n",
    "model.add(InceptionV3(include_top=False, pooling='avg', weights ='imagenet'))\n",
    "model.add(Flatten())\n",
    "model.add(BatchNormalization())\n",
    "model.add(Dense(2048, activation='relu'))\n",
    "model.add(BatchNormalization())\n",
    "model.add(Dense(1, activation='sigmoid'))\n",
    "model.layers[0].trainable = False"
   ]
  },
  {
   "cell_type": "code",
   "execution_count": null,
   "metadata": {
    "colab": {
     "base_uri": "https://localhost:8080/"
    },
    "id": "Hqb8O63ovdwR",
    "outputId": "0c92fa41-1d6c-4c72-bda3-605f5ae0cc9e"
   },
   "outputs": [],
   "source": [
    "model.summary()"
   ]
  },
  {
   "cell_type": "code",
   "execution_count": null,
   "metadata": {
    "id": "nMWoY-E9vd1E"
   },
   "outputs": [],
   "source": [
    "model.compile(optimizer='adam',\n",
    "              loss='binary_crossentropy',\n",
    "              metrics=['accuracy'])"
   ]
  },
  {
   "cell_type": "code",
   "execution_count": null,
   "metadata": {
    "colab": {
     "base_uri": "https://localhost:8080/"
    },
    "id": "ub1LyIkn3EoK",
    "outputId": "bd593512-a1db-4f72-e2d5-2abfa1871e6d"
   },
   "outputs": [],
   "source": [
    "len((train_generator.filenames)), batch_size, len((train_generator.filenames))//batch_size"
   ]
  },
  {
   "cell_type": "code",
   "execution_count": null,
   "metadata": {
    "colab": {
     "base_uri": "https://localhost:8080/"
    },
    "id": "qhFrwo4k09fk",
    "outputId": "cbed62d4-a3d1-43ac-c696-5b053f5e279d"
   },
   "outputs": [],
   "source": [
    "model.fit(train_generator,steps_per_epoch=len(train_generator.filenames)//batch_size,\n",
    "         epochs=1, validation_data=validation_generator,validation_steps=len(validation_generator.filenames)//batch_size) "
   ]
  },
  {
   "cell_type": "markdown",
   "metadata": {
    "id": "0P4pg0_A9xc6"
   },
   "source": [
    "#Testing the Model\n"
   ]
  },
  {
   "cell_type": "code",
   "execution_count": null,
   "metadata": {
    "id": "JBcaFsRY9sBZ"
   },
   "outputs": [],
   "source": [
    "img_path = '/content/lmao.jpg'\n"
   ]
  },
  {
   "cell_type": "code",
   "execution_count": null,
   "metadata": {
    "colab": {
     "base_uri": "https://localhost:8080/",
     "height": 287
    },
    "id": "YtAJxvB809ky",
    "outputId": "6be92e69-3d22-421d-b27f-a8dff1d469a5"
   },
   "outputs": [],
   "source": [
    "img = load_img(img_path, target_size=(size, size, 3))\n",
    "plt.imshow(img)"
   ]
  },
  {
   "cell_type": "code",
   "execution_count": null,
   "metadata": {
    "id": "9oaB1C0t09uB"
   },
   "outputs": [],
   "source": [
    "img = img_to_array(img)"
   ]
  },
  {
   "cell_type": "code",
   "execution_count": null,
   "metadata": {
    "id": "di7iA3PL09vd"
   },
   "outputs": [],
   "source": [
    "img = img/255.0"
   ]
  },
  {
   "cell_type": "code",
   "execution_count": null,
   "metadata": {
    "id": "YMS08fAY09xm"
   },
   "outputs": [],
   "source": [
    "img = img.reshape(1, size, size, 3)"
   ]
  },
  {
   "cell_type": "code",
   "execution_count": null,
   "metadata": {
    "colab": {
     "base_uri": "https://localhost:8080/"
    },
    "id": "8pIx7tBo09zo",
    "outputId": "a5a4d5a7-78ba-4e7b-c77d-98fb728d43ef"
   },
   "outputs": [],
   "source": [
    "model.predict(img)"
   ]
  },
  {
   "cell_type": "code",
   "execution_count": null,
   "metadata": {
    "colab": {
     "base_uri": "https://localhost:8080/"
    },
    "id": "449JmE6PL3yO",
    "outputId": "0feadc70-8702-4b49-b798-3e45bb460ef3"
   },
   "outputs": [],
   "source": [
    "train_generator.class_indices"
   ]
  },
  {
   "cell_type": "code",
   "execution_count": null,
   "metadata": {
    "id": "WI7SyArf0919"
   },
   "outputs": [],
   "source": [
    "def get_classes(data):\n",
    "  prob = model.predict(img)[0][0]\n",
    "\n",
    "  if prob<=0.5:\n",
    "    return 'female',(1-prob)\n",
    "  else:\n",
    "    return 'male', prob  "
   ]
  },
  {
   "cell_type": "markdown",
   "metadata": {
    "id": "D7wpXJqFOKQZ"
   },
   "source": [
    "# Predicted whether male or female with it's corresponding accuracy"
   ]
  },
  {
   "cell_type": "code",
   "execution_count": null,
   "metadata": {
    "colab": {
     "base_uri": "https://localhost:8080/"
    },
    "id": "vX7tWlOu0941",
    "outputId": "1924e4e6-6f43-4b9e-b95d-ec7db74b44bf"
   },
   "outputs": [],
   "source": [
    "get_classes(img)"
   ]
  },
  {
   "cell_type": "markdown",
   "metadata": {
    "id": "q-cxo0F-DiSE"
   },
   "source": [
    "# Real-Time Prediction using Webcam\n",
    "\n",
    "*   List item\n",
    "*   List item\n",
    "\n",
    "\n"
   ]
  },
  {
   "cell_type": "markdown",
   "metadata": {
    "id": "b905MihWOkQA"
   },
   "source": [
    "### Importing the libraries for using webcam"
   ]
  },
  {
   "cell_type": "code",
   "execution_count": null,
   "metadata": {
    "id": "KtMmnPaoDn0t"
   },
   "outputs": [],
   "source": [
    "from IPython.display import display, Javascript\n",
    "from google.colab.output import eval_js\n",
    "from base64 import b64decode"
   ]
  },
  {
   "cell_type": "markdown",
   "metadata": {
    "id": "3WkICIwUOoAq"
   },
   "source": [
    "###Creating the working webcam functionality"
   ]
  },
  {
   "cell_type": "code",
   "execution_count": null,
   "metadata": {
    "id": "SeewUWUQDuSE"
   },
   "outputs": [],
   "source": [
    "def take_photo(filename='photo.jpg', quality=0.8):\n",
    "  js = Javascript('''\n",
    "    async function takePhoto(quality) {\n",
    "      const div = document.createElement('div');\n",
    "      const capture = document.createElement('button');\n",
    "      capture.textContent = 'Capture';\n",
    "      div.appendChild(capture);\n",
    "\n",
    "      const video = document.createElement('video');\n",
    "      video.style.display = 'block';\n",
    "      const stream = await navigator.mediaDevices.getUserMedia({video: true});\n",
    "\n",
    "      document.body.appendChild(div);\n",
    "      div.appendChild(video);\n",
    "      video.srcObject = stream;\n",
    "      await video.play();\n",
    "\n",
    "      // Resize the output to fit the video element.\n",
    "      google.colab.output.setIframeHeight(document.documentElement.scrollHeight, true);\n",
    "\n",
    "      // Wait for Capture to be clicked.\n",
    "      await new Promise((resolve) => capture.onclick = resolve);\n",
    "\n",
    "      const canvas = document.createElement('canvas');\n",
    "      canvas.width = video.videoWidth;\n",
    "      canvas.height = video.videoHeight;\n",
    "      canvas.getContext('2d').drawImage(video, 0, 0);\n",
    "      stream.getVideoTracks()[0].stop();\n",
    "      div.remove();\n",
    "      return canvas.toDataURL('image/jpeg', quality);\n",
    "    }\n",
    "    ''')\n",
    "  display(js)\n",
    "  data = eval_js('takePhoto({})'.format(quality))\n",
    "  binary = b64decode(data.split(',')[1])\n",
    "  with open(filename, 'wb') as f:\n",
    "    f.write(binary)\n",
    "  return filename"
   ]
  },
  {
   "cell_type": "markdown",
   "metadata": {
    "id": "cCuLIlu9O8Gg"
   },
   "source": [
    "### Saving the captured image to directory"
   ]
  },
  {
   "cell_type": "code",
   "execution_count": null,
   "metadata": {
    "colab": {
     "base_uri": "https://localhost:8080/",
     "height": 515
    },
    "id": "rd9_J4v7DuUX",
    "outputId": "bd2a1d80-f1c5-41c0-9219-e8415439afa6"
   },
   "outputs": [],
   "source": [
    "from IPython.display import Image\n",
    "try:\n",
    "  filename =take_photo()\n",
    "  print('Saved to {}'.format(filename))\n",
    "    # Show the image which was just taken.\n",
    "  display (Image(filename))\n",
    "except Exception as err:\n",
    "# Errors will be thrown if the user does not have a webcam or if they do not\n",
    "# grant the page permission to access it.\n",
    "  print(str(err))"
   ]
  },
  {
   "cell_type": "code",
   "execution_count": null,
   "metadata": {
    "id": "ODTG44gGDuWZ"
   },
   "outputs": [],
   "source": [
    "img_path = '/content/photo.jpg'"
   ]
  },
  {
   "cell_type": "code",
   "execution_count": null,
   "metadata": {
    "id": "ZI9xm5BFDuZx"
   },
   "outputs": [],
   "source": [
    "def get_prediction(img_path):\n",
    "  img = load_img(img_path, target_size=(size, size, 3))\n",
    "  plt.imshow(img)\n",
    "  img = img_to_array(img)\n",
    "  img = img/255.0\n",
    "  img = img.reshape(1, size, size, 3)\n",
    "  pred, prob = get_classes (img)\n",
    "  return pred, prob"
   ]
  },
  {
   "cell_type": "code",
   "execution_count": null,
   "metadata": {
    "colab": {
     "base_uri": "https://localhost:8080/",
     "height": 287
    },
    "id": "io1U2bTjJzT9",
    "outputId": "e593cf76-5f51-4895-b430-ddf90d811665"
   },
   "outputs": [],
   "source": [
    "get_prediction(img_path)"
   ]
  },
  {
   "cell_type": "code",
   "execution_count": null,
   "metadata": {},
   "outputs": [],
   "source": []
  },
  {
   "cell_type": "code",
   "execution_count": null,
   "metadata": {},
   "outputs": [],
   "source": []
  }
 ],
 "metadata": {
  "accelerator": "GPU",
  "colab": {
   "collapsed_sections": [],
   "name": "Gender Classification Using Inception V3.ipynb",
   "provenance": []
  },
  "kernelspec": {
   "display_name": "Python 3",
   "language": "python",
   "name": "python3"
  },
  "language_info": {
   "codemirror_mode": {
    "name": "ipython",
    "version": 3
   },
   "file_extension": ".py",
   "mimetype": "text/x-python",
   "name": "python",
   "nbconvert_exporter": "python",
   "pygments_lexer": "ipython3",
   "version": "3.7.4"
  }
 },
 "nbformat": 4,
 "nbformat_minor": 1
}
